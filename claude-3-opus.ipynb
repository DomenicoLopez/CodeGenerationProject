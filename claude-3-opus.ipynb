{
  "cells": [
    {
      "cell_type": "code",
      "source": [
        "!pip install anthropic"
      ],
      "metadata": {
        "id": "fHcmKw45z7Sd"
      },
      "id": "fHcmKw45z7Sd",
      "execution_count": null,
      "outputs": []
    },
    {
      "cell_type": "code",
      "source": [
        "!conda create -n codex python=3.7\n",
        "! conda activate codex\n",
        "! git clone https://github.com/openai/human-eval\n",
        "! pip install -e human-eval\n",
        "# Set the working directory\n",
        "%cd /content/human-eval\n",
        "!pip install jsonlines"
      ],
      "metadata": {
        "id": "V_BkrYvea6ik"
      },
      "id": "V_BkrYvea6ik",
      "execution_count": null,
      "outputs": []
    },
    {
      "cell_type": "code",
      "source": [
        "import anthropic\n",
        "\n",
        "client = anthropic.Anthropic(\n",
        "    # defaults to os.environ.get(\"ANTHROPIC_API_KEY\")\n",
        "    api_key=\"\",\n",
        ")\n",
        "def generate_one_completion(prompt):\n",
        "  message = client.messages.create(\n",
        "    model=\"claude-3-opus-20240229\",\n",
        "    max_tokens=1000,\n",
        "    temperature=0.0,\n",
        "    system=\"You are an intelligent programmer. You must complete the python function given to you by the user. And you must follow the format they present when giving your answer!\",\n",
        "    messages=[\n",
        "        {\"role\": \"user\", \"content\":  prompt}\n",
        "    ]\n",
        "  )\n",
        "  return(message.content[0].text)\n"
      ],
      "metadata": {
        "id": "ZzGFxatCzaGa",
        "executionInfo": {
          "status": "ok",
          "timestamp": 1713472313931,
          "user_tz": 240,
          "elapsed": 113,
          "user": {
            "displayName": "",
            "userId": ""
          }
        }
      },
      "id": "ZzGFxatCzaGa",
      "execution_count": 10,
      "outputs": []
    },
    {
      "cell_type": "code",
      "source": [
        "import pandas as pd\n",
        "import time\n",
        "import jsonlines\n",
        "import numpy as np\n",
        "\n",
        "if __name__ == '__main__':\n",
        "    jsonObj = pd.read_json(path_or_buf=\"https://github.com/openai/human-eval/raw/master/data/HumanEval.jsonl.gz\", lines=True)\n",
        "    i = 1\n",
        "    command = 0\n",
        "    durationTimes = []\n",
        "    with jsonlines.open('Claude3.jsonl', mode='w') as writer:\n",
        "        with jsonlines.open('ClaudeTimer3.jsonl', mode='w') as timer:\n",
        "            while i < 164:\n",
        "              if command < 4:\n",
        "                start_time = time.time()\n",
        "                response = generate_one_completion(jsonObj[\"prompt\"][i])\n",
        "                duration = time.time() - start_time\n",
        "                timer.write({jsonObj[\"task_id\"][i]: duration})\n",
        "                durationTimes.append(duration)\n",
        "                response = response.replace(\"```python\\n\", \"\")\n",
        "                response = response.replace(\"\\n```\", \"\")\n",
        "                response = response[1:]\n",
        "                completion = {'task_id': jsonObj[\"task_id\"][i], 'completion': response}\n",
        "                writer.write(completion)\n",
        "                i = i + 1\n",
        "                command = command + 1\n",
        "              else:\n",
        "                command = 0\n",
        "                time.sleep(60)\n",
        "\n",
        "    print(np.sum(duration))\n",
        "    print(np.average(duration))\n"
      ],
      "metadata": {
        "colab": {
          "base_uri": "https://localhost:8080/"
        },
        "id": "rxscjetA0_tA",
        "executionInfo": {
          "status": "ok",
          "timestamp": 1713478580843,
          "user_tz": 240,
          "elapsed": 2273861,
          "user": {
            "displayName": "",
            "userId": ""
          }
        },
        "outputId": "a904c053-f2c1-4b1c-bb41-0a472deb1f30"
      },
      "id": "rxscjetA0_tA",
      "execution_count": 13,
      "outputs": [
        {
          "output_type": "stream",
          "name": "stdout",
          "text": [
            "19.80688452720642\n",
            "19.80688452720642\n"
          ]
        }
      ]
    },
    {
      "cell_type": "code",
      "source": [
        "import jsonlines\n",
        "\n",
        "def merge_jsonl_files(input_files, output_file):\n",
        "    with jsonlines.open(output_file, mode='w') as writer:\n",
        "        for file in input_files:\n",
        "            with jsonlines.open(file) as reader:\n",
        "                for line in reader:\n",
        "                    writer.write(line)\n",
        "\n",
        "# Example usage:\n",
        "input_files = ['/content/human-eval/ClaudeTimer.jsonl','/content/human-eval/ClaudeTimer2.jsonl','/content/human-eval/ClaudeTimer3.jsonl']  # List of input JSONL files\n",
        "output_file = 'mergedTimer.jsonl'  # Output file name\n",
        "\n",
        "merge_jsonl_files(input_files, output_file)"
      ],
      "metadata": {
        "id": "4FIRG-dtS8Je",
        "executionInfo": {
          "status": "ok",
          "timestamp": 1713478940057,
          "user_tz": 240,
          "elapsed": 86,
          "user": {
            "displayName": "",
            "userId": ""
          }
        }
      },
      "id": "4FIRG-dtS8Je",
      "execution_count": 16,
      "outputs": []
    },
    {
      "cell_type": "code",
      "source": [
        "!python3 human_eval/evaluate_functional_correctness.py merged.jsonl"
      ],
      "metadata": {
        "colab": {
          "base_uri": "https://localhost:8080/"
        },
        "id": "izuSPFJs1bwk",
        "executionInfo": {
          "status": "ok",
          "timestamp": 1713478885705,
          "user_tz": 240,
          "elapsed": 2815,
          "user": {
            "displayName": "",
            "userId": ""
          }
        },
        "outputId": "7e66ddb0-da61-4a81-98bd-88f15b43e199"
      },
      "id": "izuSPFJs1bwk",
      "execution_count": 15,
      "outputs": [
        {
          "output_type": "stream",
          "name": "stdout",
          "text": [
            "Reading samples...\n",
            "\r0it [00:00, ?it/s]\r164it [00:00, 14395.32it/s]\n",
            "Running test suites...\n",
            "100% 164/164 [00:02<00:00, 69.83it/s]\n",
            "Writing results to merged.jsonl_results.jsonl...\n",
            "100% 164/164 [00:00<00:00, 22838.27it/s]\n",
            "{'pass@1': 0.0}\n"
          ]
        }
      ]
    }
  ],
  "metadata": {
    "kernelspec": {
      "display_name": "Python 3",
      "language": "python",
      "name": "python3"
    },
    "language_info": {
      "codemirror_mode": {
        "name": "ipython",
        "version": 3
      },
      "file_extension": ".py",
      "mimetype": "text/x-python",
      "name": "python",
      "nbconvert_exporter": "python",
      "pygments_lexer": "ipython3",
      "version": "3.10.10"
    },
    "colab": {
      "provenance": [],
      "name": "unnatichaturvedi295 (Apr 18, 2024, 11:21:49 AM)"
    }
  },
  "nbformat": 4,
  "nbformat_minor": 5
}