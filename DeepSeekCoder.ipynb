{
  "cells": [
    {
      "cell_type": "code",
      "id": "QK5IWWh0ZVnkAVETsZJWbiKj",
      "metadata": {
        "tags": [],
        "id": "QK5IWWh0ZVnkAVETsZJWbiKj"
      },
      "source": [
        "!conda create -n codex python=3.7\n",
        "! conda activate codex\n",
        "! git clone https://github.com/openai/human-eval\n",
        "! pip install -e human-eval\n",
        "# Set the working directory\n",
        "%cd /content/human-eval\n",
        "!pip install jsonlines"
      ],
      "execution_count": null,
      "outputs": []
    },
    {
      "cell_type": "code",
      "source": [
        "from human_eval.data import write_jsonl, read_problems\n",
        "import pandas as pd\n",
        "import time\n",
        "import jsonlines\n",
        "from openai import OpenAI\n",
        "def generate_one_completion(prompt):\n",
        "  client = OpenAI(api_key=\"sk-4d5e3e6f328e47cb93fc46dddac2b450\", base_url=\"https://api.deepseek.com/v1\")\n",
        "  response = client.chat.completions.create(\n",
        "    model=\"deepseek-coder\",messages=[\n",
        "        {\"role\": \"system\",\n",
        "         \"content\": \"You are an intelligent programmer. You must complete the python function given to you by the user. And you must follow the format they present when giving your answer!\"},\n",
        "        {\"role\": \"user\", \"content\": prompt},\n",
        "    ],\n",
        "    max_tokens=1048,\n",
        "    temperature=0.0)\n",
        "\n",
        "  return(response.choices[0].message.content)"
      ],
      "metadata": {
        "id": "TbBPK9MGgESr",
        "executionInfo": {
          "status": "ok",
          "timestamp": 1713406431465,
          "user_tz": 240,
          "elapsed": 84,
          "user": {
            "displayName": "",
            "userId": ""
          }
        }
      },
      "id": "TbBPK9MGgESr",
      "execution_count": 27,
      "outputs": []
    },
    {
      "cell_type": "code",
      "source": [
        "import pandas as pd\n",
        "import time\n",
        "import jsonlines\n",
        "import numpy as np\n",
        "\n",
        "if __name__ == '__main__':\n",
        "    jsonObj = pd.read_json(path_or_buf=\"https://github.com/openai/human-eval/raw/master/data/HumanEval.jsonl.gz\", lines=True)\n",
        "    command = 0\n",
        "    i = 0\n",
        "    durationTimes = []\n",
        "    with jsonlines.open('Deepcoder.jsonl', mode='w') as writer:\n",
        "        while i <  164:\n",
        "            if command < 4:\n",
        "                start_time = time.time()\n",
        "                response = generate_one_completion(jsonObj[\"prompt\"][i])\n",
        "                duration = time.time() - start_time\n",
        "                response = response.replace(\"```python\\n\", \"\")\n",
        "                response = response.replace(\"\\n```\", \"\")\n",
        "                durationTimes.append(duration)\n",
        "                completion = {'task_id': jsonObj[\"task_id\"][i], 'completion': response}\n",
        "                writer.write(completion)\n",
        "                command = command + 1\n",
        "                i = i + 1\n",
        "            else:\n",
        "                command = 0\n",
        "                time.sleep(90)\n",
        "    print(np.sum(duration))\n",
        "    print(np.average(duration))"
      ],
      "metadata": {
        "colab": {
          "base_uri": "https://localhost:8080/"
        },
        "id": "98h7d0_AgnuM",
        "executionInfo": {
          "status": "ok",
          "timestamp": 1713411914960,
          "user_tz": 240,
          "elapsed": 270849,
          "user": {
            "displayName": "",
            "userId": ""
          }
        },
        "outputId": "dc613985-97be-4f96-9dfd-1bb7b5420578"
      },
      "id": "98h7d0_AgnuM",
      "execution_count": 33,
      "outputs": [
        {
          "output_type": "stream",
          "name": "stdout",
          "text": [
            "13.302963972091675\n",
            "13.302963972091675\n"
          ]
        }
      ]
    },
    {
      "cell_type": "code",
      "source": [
        "!python3 human_eval/evaluate_functional_correctness.py /Deepcoder.jsonl"
      ],
      "metadata": {
        "colab": {
          "base_uri": "https://localhost:8080/"
        },
        "id": "IfmkuSqP6oj-",
        "executionInfo": {
          "status": "ok",
          "timestamp": 1713411996479,
          "user_tz": 240,
          "elapsed": 2737,
          "user": {
            "displayName": "",
            "userId": ""
          }
        },
        "outputId": "1bbb58bc-0523-4640-f33e-07b8e5d50f28"
      },
      "id": "IfmkuSqP6oj-",
      "execution_count": 34,
      "outputs": [
        {
          "output_type": "stream",
          "name": "stdout",
          "text": [
            "Reading samples...\n",
            "\r0it [00:00, ?it/s]\r165it [00:00, 16139.09it/s]\n",
            "Running test suites...\n",
            "100% 165/165 [00:02<00:00, 74.88it/s]\n",
            "Writing results to /Deepcoder.jsonl_results.jsonl...\n",
            "100% 165/165 [00:00<00:00, 38612.96it/s]\n",
            "{'pass@1': 0.17682926829268292}\n"
          ]
        }
      ]
    }
  ],
  "metadata": {
    "kernelspec": {
      "display_name": "Python 3",
      "language": "python",
      "name": "python3"
    },
    "language_info": {
      "codemirror_mode": {
        "name": "ipython",
        "version": 3
      },
      "file_extension": ".py",
      "mimetype": "text/x-python",
      "name": "python",
      "nbconvert_exporter": "python",
      "pygments_lexer": "ipython3",
      "version": "3.10.10"
    },
    "colab": {
      "provenance": [],
      "name": "unnatichaturvedi295 (Apr 17, 2024, 7:55:54 PM)"
    }
  },
  "nbformat": 4,
  "nbformat_minor": 5
}
