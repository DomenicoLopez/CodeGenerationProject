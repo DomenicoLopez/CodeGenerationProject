{
  "cells": [
    {
      "cell_type": "code",
      "id": "6i1VfwcZUzRNHbzksgiSH9Tf",
      "metadata": {
        "tags": [],
        "id": "6i1VfwcZUzRNHbzksgiSH9Tf"
      },
      "source": [
        "!conda create -n codex python=3.7\n",
        "! conda activate codex\n",
        "! git clone https://github.com/openai/human-eval\n",
        "! pip install -e human-eval\n",
        "# Set the working directory\n",
        "%cd /content/human-eval\n",
        "!pip install jsonlines"
      ],
      "execution_count": null,
      "outputs": []
    },
    {
      "cell_type": "code",
      "source": [
        "!python3 human_eval/evaluate_functional_correctness.py /content/Claude.jsonl"
      ],
      "metadata": {
        "colab": {
          "base_uri": "https://localhost:8080/"
        },
        "id": "p84rpuz49SDr",
        "executionInfo": {
          "status": "ok",
          "timestamp": 1713540772109,
          "user_tz": 240,
          "elapsed": 2699,
          "user": {
            "displayName": "",
            "userId": ""
          }
        },
        "outputId": "3b2b90d5-6c62-4562-c4b5-9aec3eaf8d3d"
      },
      "id": "p84rpuz49SDr",
      "execution_count": 3,
      "outputs": [
        {
          "output_type": "stream",
          "name": "stdout",
          "text": [
            "Reading samples...\n",
            "\r0it [00:00, ?it/s]\r164it [00:00, 18168.19it/s]\n",
            "Running test suites...\n",
            "100% 164/164 [00:02<00:00, 75.09it/s]\n",
            "Writing results to /content/Claude.jsonl_results.jsonl...\n",
            "100% 164/164 [00:00<00:00, 36819.71it/s]\n",
            "{'pass@1': 0.8536585365853658}\n"
          ]
        }
      ]
    },
    {
      "cell_type": "code",
      "source": [
        "!python3 human_eval/evaluate_functional_correctness.py /content/Gemini.jsonl"
      ],
      "metadata": {
        "colab": {
          "base_uri": "https://localhost:8080/"
        },
        "id": "krdyz55F9SxJ",
        "executionInfo": {
          "status": "ok",
          "timestamp": 1713540777163,
          "user_tz": 240,
          "elapsed": 5059,
          "user": {
            "displayName": "",
            "userId": ""
          }
        },
        "outputId": "e2fc11b1-04ee-4a48-dac3-b4ed6e9f4ce9"
      },
      "id": "krdyz55F9SxJ",
      "execution_count": 4,
      "outputs": [
        {
          "output_type": "stream",
          "name": "stdout",
          "text": [
            "Reading samples...\n",
            "\r0it [00:00, ?it/s]\r164it [00:00, 15719.41it/s]\n",
            "Running test suites...\n",
            "100% 164/164 [00:04<00:00, 35.37it/s]\n",
            "Writing results to /content/Gemini.jsonl_results.jsonl...\n",
            "100% 164/164 [00:00<00:00, 37840.57it/s]\n",
            "{'pass@1': 0.676829268292683}\n"
          ]
        }
      ]
    },
    {
      "cell_type": "code",
      "source": [
        "!python3 human_eval/evaluate_functional_correctness.py /content/chatgpt.jsonl"
      ],
      "metadata": {
        "colab": {
          "base_uri": "https://localhost:8080/"
        },
        "id": "tmv5UI_W9S47",
        "executionInfo": {
          "status": "ok",
          "timestamp": 1713540779759,
          "user_tz": 240,
          "elapsed": 2608,
          "user": {
            "displayName": "",
            "userId": ""
          }
        },
        "outputId": "4541013d-6066-4732-81f6-9ef9217b205c"
      },
      "id": "tmv5UI_W9S47",
      "execution_count": 5,
      "outputs": [
        {
          "output_type": "stream",
          "name": "stdout",
          "text": [
            "Reading samples...\n",
            "\r0it [00:00, ?it/s]\r164it [00:00, 5735.61it/s]\n",
            "Running test suites...\n",
            "100% 164/164 [00:02<00:00, 74.23it/s]\n",
            "Writing results to /content/chatgpt.jsonl_results.jsonl...\n",
            "100% 164/164 [00:00<00:00, 49665.40it/s]\n",
            "{'pass@1': 0.7378048780487805}\n"
          ]
        }
      ]
    },
    {
      "cell_type": "code",
      "source": [
        "!python3 human_eval/evaluate_functional_correctness.py /content/deepseek.jsonl"
      ],
      "metadata": {
        "colab": {
          "base_uri": "https://localhost:8080/"
        },
        "id": "Zwec0L9P9TBR",
        "executionInfo": {
          "status": "ok",
          "timestamp": 1713540782721,
          "user_tz": 240,
          "elapsed": 2965,
          "user": {
            "displayName": "",
            "userId": ""
          }
        },
        "outputId": "428bde48-af93-482f-8d0f-558439f2c987"
      },
      "id": "Zwec0L9P9TBR",
      "execution_count": 6,
      "outputs": [
        {
          "output_type": "stream",
          "name": "stdout",
          "text": [
            "Reading samples...\n",
            "\r0it [00:00, ?it/s]\r164it [00:00, 12016.59it/s]\n",
            "Running test suites...\n",
            "100% 164/164 [00:02<00:00, 65.80it/s]\n",
            "Writing results to /content/deepseek.jsonl_results.jsonl...\n",
            "100% 164/164 [00:00<00:00, 38919.65it/s]\n",
            "{'pass@1': 0.7317073170731707}\n"
          ]
        }
      ]
    }
  ],
  "metadata": {
    "kernelspec": {
      "display_name": "Python 3",
      "language": "python",
      "name": "python3"
    },
    "language_info": {
      "codemirror_mode": {
        "name": "ipython",
        "version": 3
      },
      "file_extension": ".py",
      "mimetype": "text/x-python",
      "name": "python",
      "nbconvert_exporter": "python",
      "pygments_lexer": "ipython3",
      "version": "3.10.10"
    },
    "colab": {
      "provenance": [],
      "name": "unnatichaturvedi295 (Apr 19, 2024, 11:23:46 AM)"
    }
  },
  "nbformat": 4,
  "nbformat_minor": 5
}