{
  "cells": [
    {
      "cell_type": "code",
      "id": "QK5IWWh0ZVnkAVETsZJWbiKj",
      "metadata": {
        "tags": [],
        "id": "QK5IWWh0ZVnkAVETsZJWbiKj",
        "colab": {
          "base_uri": "https://localhost:8080/"
        },
        "executionInfo": {
          "status": "ok",
          "timestamp": 1713451447761,
          "user_tz": 240,
          "elapsed": 40823,
          "user": {
            "displayName": "",
            "userId": ""
          }
        },
        "outputId": "8b369f1b-4c9e-4069-bec3-aeb185eac380"
      },
      "source": [
        "!conda create -n codex python=3.7\n",
        "! conda activate codex\n",
        "! git clone https://github.com/openai/human-eval\n",
        "! pip install -e human-eval\n",
        "# Set the working directory\n",
        "%cd /content/human-eval\n",
        "!pip install jsonlines"
      ],
      "execution_count": 1,
      "outputs": [
        {
          "output_type": "stream",
          "name": "stdout",
          "text": [
            "/bin/bash: line 1: conda: command not found\n",
            "/bin/bash: line 1: conda: command not found\n",
            "fatal: destination path 'human-eval' already exists and is not an empty directory.\n",
            "Obtaining file:///content/human-eval\n",
            "  Preparing metadata (setup.py) ... \u001b[?25l\u001b[?25hdone\n",
            "Requirement already satisfied: tqdm in /usr/local/lib/python3.10/dist-packages (from human-eval==1.0) (4.66.2)\n",
            "Requirement already satisfied: fire in /usr/local/lib/python3.10/dist-packages (from human-eval==1.0) (0.6.0)\n",
            "Requirement already satisfied: numpy in /usr/local/lib/python3.10/dist-packages (from human-eval==1.0) (1.25.2)\n",
            "Requirement already satisfied: six in /usr/local/lib/python3.10/dist-packages (from fire->human-eval==1.0) (1.16.0)\n",
            "Requirement already satisfied: termcolor in /usr/local/lib/python3.10/dist-packages (from fire->human-eval==1.0) (2.4.0)\n",
            "Installing collected packages: human-eval\n",
            "  Attempting uninstall: human-eval\n",
            "    Found existing installation: human-eval 1.0\n",
            "    Uninstalling human-eval-1.0:\n",
            "      Successfully uninstalled human-eval-1.0\n",
            "  Running setup.py develop for human-eval\n",
            "Successfully installed human-eval-1.0\n",
            "/content/human-eval\n",
            "Requirement already satisfied: jsonlines in /usr/local/lib/python3.10/dist-packages (4.0.0)\n",
            "Requirement already satisfied: attrs>=19.2.0 in /usr/local/lib/python3.10/dist-packages (from jsonlines) (23.2.0)\n"
          ]
        }
      ]
    },
    {
      "cell_type": "code",
      "source": [
        "from human_eval.data import write_jsonl, read_problems\n",
        "import pandas as pd\n",
        "import time\n",
        "import jsonlines\n",
        "from openai import OpenAI\n",
        "def generate_one_completion(prompt):\n",
        "  client = OpenAI(api_key=\"sk-4d5e3e6f328e47cb93fc46dddac2b450\", base_url=\"https://api.deepseek.com/v1\")\n",
        "  response = client.chat.completions.create(\n",
        "    model=\"deepseek-coder\",messages=[\n",
        "        {\"role\": \"system\",\n",
        "         \"content\": \"You are an intelligent programmer. You must complete the python function given to you by the user. And you must follow the format they present when giving your answer!\"},\n",
        "        {\"role\": \"user\", \"content\": prompt},\n",
        "    ],\n",
        "    temperature=0.0)\n",
        "\n",
        "  return(response.choices[0].message.content)"
      ],
      "metadata": {
        "id": "TbBPK9MGgESr",
        "executionInfo": {
          "status": "ok",
          "timestamp": 1713451449624,
          "user_tz": 240,
          "elapsed": 1867,
          "user": {
            "displayName": "",
            "userId": ""
          }
        }
      },
      "id": "TbBPK9MGgESr",
      "execution_count": 2,
      "outputs": []
    },
    {
      "cell_type": "code",
      "source": [
        "import pandas as pd\n",
        "import time\n",
        "import jsonlines\n",
        "import numpy as np\n",
        "\n",
        "if __name__ == '__main__':\n",
        "    jsonObj = pd.read_json(path_or_buf=\"https://github.com/openai/human-eval/raw/master/data/HumanEval.jsonl.gz\", lines=True)\n",
        "    command = 0\n",
        "    i = 0\n",
        "    durationTimes = []\n",
        "    with jsonlines.open('Deepcoder2.jsonl', mode='w') as writer:\n",
        "        while i <  164:\n",
        "            if command < 4:\n",
        "                start_time = time.time()\n",
        "                response = generate_one_completion(jsonObj[\"prompt\"][i])\n",
        "                duration = time.time() - start_time\n",
        "                response = response.replace(\"```python\\n\", \"\")\n",
        "                response = response.replace(\"\\n```\", \"\")\n",
        "                durationTimes.append(duration)\n",
        "                completion = {'task_id': jsonObj[\"task_id\"][i], 'completion': response}\n",
        "                writer.write(completion)\n",
        "                command = command + 1\n",
        "                i = i + 1\n",
        "            else:\n",
        "                command = 0\n",
        "                time.sleep(90)\n",
        "    print(np.sum(duration))\n",
        "    print(np.average(duration))"
      ],
      "metadata": {
        "colab": {
          "base_uri": "https://localhost:8080/"
        },
        "id": "98h7d0_AgnuM",
        "executionInfo": {
          "status": "ok",
          "timestamp": 1713456642535,
          "user_tz": 240,
          "elapsed": 5178629,
          "user": {
            "displayName": "",
            "userId": ""
          }
        },
        "outputId": "1c5a4356-8d24-4bd8-e213-86bf32475658"
      },
      "id": "98h7d0_AgnuM",
      "execution_count": 3,
      "outputs": [
        {
          "output_type": "stream",
          "name": "stdout",
          "text": [
            "7.088589429855347\n",
            "7.088589429855347\n"
          ]
        }
      ]
    },
    {
      "cell_type": "code",
      "source": [
        "!python3 human_eval/evaluate_functional_correctness.py Deepcoder2.jsonl"
      ],
      "metadata": {
        "colab": {
          "base_uri": "https://localhost:8080/"
        },
        "id": "IfmkuSqP6oj-",
        "executionInfo": {
          "status": "ok",
          "timestamp": 1713456899235,
          "user_tz": 240,
          "elapsed": 3141,
          "user": {
            "displayName": "",
            "userId": ""
          }
        },
        "outputId": "ecbdafa5-8ecb-4aa1-e35a-e77cfccd55e6"
      },
      "id": "IfmkuSqP6oj-",
      "execution_count": 5,
      "outputs": [
        {
          "output_type": "stream",
          "name": "stdout",
          "text": [
            "Reading samples...\n",
            "\r0it [00:00, ?it/s]\r164it [00:00, 6772.27it/s]\n",
            "Running test suites...\n",
            "100% 164/164 [00:02<00:00, 65.21it/s]\n",
            "Writing results to Deepcoder2.jsonl_results.jsonl...\n",
            "100% 164/164 [00:00<00:00, 29723.70it/s]\n",
            "{'pass@1': 0.18292682926829268}\n"
          ]
        }
      ]
    }
  ],
  "metadata": {
    "kernelspec": {
      "display_name": "Python 3",
      "language": "python",
      "name": "python3"
    },
    "language_info": {
      "codemirror_mode": {
        "name": "ipython",
        "version": 3
      },
      "file_extension": ".py",
      "mimetype": "text/x-python",
      "name": "python",
      "nbconvert_exporter": "python",
      "pygments_lexer": "ipython3",
      "version": "3.10.10"
    },
    "colab": {
      "provenance": [],
      "name": "unnatichaturvedi295 (Apr 17, 2024, 7:55:54 PM)"
    }
  },
  "nbformat": 4,
  "nbformat_minor": 5
}